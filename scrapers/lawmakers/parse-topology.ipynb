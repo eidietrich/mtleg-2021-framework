{
 "cells": [
  {
   "cell_type": "code",
   "execution_count": 1,
   "metadata": {},
   "outputs": [],
   "source": [
    "import pandas as pd"
   ]
  },
  {
   "cell_type": "markdown",
   "metadata": {},
   "source": [
    "Script for translating Excel sketchpad for cartogram district locations to visualization coordinates. Note presence of labels"
   ]
  },
  {
   "cell_type": "code",
   "execution_count": 9,
   "metadata": {},
   "outputs": [],
   "source": [
    "house = pd.read_excel('raw/district-location-sandbox.xlsx', sheet_name='House')\n",
    "\n",
    "house.columns=list(range(0,len(house.columns)))\n",
    "house = house.reset_index().rename(columns={'index': 'row'})\n",
    "\n",
    "melted = house.melt(id_vars='row',var_name='col').dropna()\n",
    "\n",
    "labels = melted[melted['value'].apply(lambda d: isinstance(d, str))]\n",
    "districts = melted[melted['value'].apply(lambda d: not isinstance(d, str))].copy()\n",
    "districts['key'] = districts['value'].map(lambda s: f'HD {int(s)}')\n",
    "districts.rename(columns={'value': 'num'}, inplace=True)\n",
    "districts.set_index('key')"
   ]
  },
  {
   "cell_type": "code",
   "execution_count": null,
   "metadata": {},
   "outputs": [],
   "source": []
  }
 ],
 "metadata": {
  "kernelspec": {
   "display_name": "Python 3",
   "language": "python",
   "name": "python3"
  },
  "language_info": {
   "codemirror_mode": {
    "name": "ipython",
    "version": 3
   },
   "file_extension": ".py",
   "mimetype": "text/x-python",
   "name": "python",
   "nbconvert_exporter": "python",
   "pygments_lexer": "ipython3",
   "version": "3.7.3"
  }
 },
 "nbformat": 4,
 "nbformat_minor": 4
}
